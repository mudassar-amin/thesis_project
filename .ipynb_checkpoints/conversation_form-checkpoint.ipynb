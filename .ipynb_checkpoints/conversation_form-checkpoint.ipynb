{
 "cells": [
  {
   "cell_type": "code",
   "execution_count": null,
   "id": "e5fb9e75",
   "metadata": {},
   "outputs": [],
   "source": [
    "import pandas as pd\n",
    "import json\n",
    "\n",
    "# Load the CSV file into a DataFrame\n",
    "df = pd.read_csv('path_to_your_file.csv')\n",
    "\n",
    "# Initialize an empty list to hold the conversation objects\n",
    "conversations = []\n",
    "\n",
    "# Iterate through each row in the DataFrame and build the conversation structure\n",
    "for _, row in df.iterrows():\n",
    "    conversation_entry = {\n",
    "        \"conversation\": [\n",
    "            {\"from\": \"human\", \"value\": row['Question']},\n",
    "            {\"from\": \"gpt\", \"value\": row['Answer']}\n",
    "        ]\n",
    "    }\n",
    "    conversations.append(conversation_entry)\n",
    "\n",
    "# Save the conversations list to a JSON file\n",
    "json_filepath = 'Updated_Question_Answers_pairs.json'\n",
    "with open(json_filepath, 'w') as json_file:\n",
    "    json.dump(conversations, json_file, indent=2)\n",
    "\n",
    "print(f\"Conversations saved to {json_filepath}\")\n"
   ]
  },
  {
   "cell_type": "markdown",
   "id": "3e50fe2f",
   "metadata": {},
   "source": [
    "Date_14-feb-2024"
   ]
  },
  {
   "cell_type": "code",
   "execution_count": 4,
   "id": "2000e621",
   "metadata": {},
   "outputs": [],
   "source": [
    "import json\n",
    "import pandas as pd  # This import was missing\n",
    "\n",
    "# Read the CSV file into a DataFrame\n",
    "df = pd.read_csv('F:/datasetn/Thesis/dataset/Chords_notes_all_unique.csv')\n",
    "\n",
    "def generate_qa_pairs_combined(chord, notes):\n",
    "    questions = [\n",
    "        f\"Please detail the component notes of the {chord} chord.\",\n",
    "        f\"What sequence of notes composes the {chord}?\",\n",
    "        f\"Can you enumerate the notes that form the {chord} chord within a standard tuning?\",\n",
    "        f\"Identify the notes that collectively establish the {chord} chord.\"\n",
    "    ]\n",
    "    answers = [\n",
    "        f\"The {chord} chord is constructed from the following notes: {notes}.\",\n",
    "        f\"In the context of standard musical notation, the {chord} consists of {notes}.\",\n",
    "        f\"Within a conventional tuning system, the {chord} chord encompasses the notes {notes}.\",\n",
    "        f\"The composition of the {chord} chord includes these notes: {notes}.\"\n",
    "    ]\n",
    "    \n",
    "    qa_pairs = []\n",
    "    for question, answer in zip(questions, answers):\n",
    "        qa_pair = {\n",
    "            \"conversation\": [\n",
    "                {\"from\": \"human\", \"value\": question},\n",
    "                {\"from\": \"gpt\", \"value\": answer}\n",
    "            ]\n",
    "        }\n",
    "        qa_pairs.append(qa_pair)\n",
    "    \n",
    "    return qa_pairs\n",
    "\n",
    "qa_pairs_combined = []\n",
    "for index, row in df.iterrows():\n",
    "    qa_pairs_combined.extend(generate_qa_pairs_combined(row['Chord'], row['Notes']))\n",
    "\n",
    "# Save to a single JSON file\n",
    "with open('QA_pairs_combined.json', 'w') as file:\n",
    "    json.dump(qa_pairs_combined, file, indent=2)"
   ]
  },
  {
   "cell_type": "code",
   "execution_count": null,
   "id": "458793a0",
   "metadata": {},
   "outputs": [],
   "source": []
  }
 ],
 "metadata": {
  "kernelspec": {
   "display_name": "Python 3 (ipykernel)",
   "language": "python",
   "name": "python3"
  },
  "language_info": {
   "codemirror_mode": {
    "name": "ipython",
    "version": 3
   },
   "file_extension": ".py",
   "mimetype": "text/x-python",
   "name": "python",
   "nbconvert_exporter": "python",
   "pygments_lexer": "ipython3",
   "version": "3.9.12"
  }
 },
 "nbformat": 4,
 "nbformat_minor": 5
}
