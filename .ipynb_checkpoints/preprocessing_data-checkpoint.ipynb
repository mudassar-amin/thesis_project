{
 "cells": [
  {
   "cell_type": "code",
   "execution_count": null,
   "id": "c98a41b0",
   "metadata": {},
   "outputs": [],
   "source": [
    "import os\n",
    "import csv\n",
    "from music21 import converter, chord\n",
    "\n",
    "# Define the path to the main folder containing the MIDI files\n",
    "main_folder_path = 'F:/datasetn'\n",
    "\n",
    "# Define the path for the output CSV file\n",
    "csv_file_path = 'F:/datasetn/test2.csv'\n",
    "\n",
    "# Open a new CSV file to write the data\n",
    "with open(csv_file_path, mode='w', newline='', encoding='utf-8') as csv_file:\n",
    "    # Create a CSV writer object\n",
    "    csv_writer = csv.writer(csv_file, delimiter=',', quotechar='\"', quoting=csv.QUOTE_MINIMAL)\n",
    "    \n",
    "    # Write the header row\n",
    "    csv_writer.writerow(['Chord', 'Notes'])\n",
    "    \n",
    "    # Iterate over all files in the main folder\n",
    "    for subdir, dirs, files in os.walk(main_folder_path):\n",
    "        for file in files:\n",
    "            # Check if the file is a MIDI file\n",
    "            if file.endswith('.mid') or file.endswith('.midi'):\n",
    "                # Construct the full path to the file\n",
    "                file_path = os.path.join(subdir, file)\n",
    "                print(f\"Processing file: {file_path}\")\n",
    "                \n",
    "                # Load the MIDI file\n",
    "                midi_file = converter.parse(file_path)\n",
    "                \n",
    "                # Iterate through all elements and find chords\n",
    "                for element in midi_file.recurse():\n",
    "                    if isinstance(element, chord.Chord):\n",
    "                        # Get the chord's name (e.g., D minor)\n",
    "                        chord_name = element.pitchedCommonName\n",
    "                        \n",
    "                        # Get the individual notes of the chord without octaves\n",
    "                        note_names = {p.name for p in element.pitches}  # Use a set to store unique note names\n",
    "                        \n",
    "                        # Write the chord and its notes to the CSV file\n",
    "                        csv_writer.writerow([chord_name, ' '.join(sorted(note_names))])  # Sort the note names for consistent ordering\n",
    "                        \n",
    "print(f\"Data Saved\")"
   ]
  },
  {
   "cell_type": "code",
   "execution_count": 1,
   "id": "1a40eb99",
   "metadata": {},
   "outputs": [
    {
     "name": "stdout",
     "output_type": "stream",
     "text": [
      "Requirement already satisfied: mido in c:\\users\\sunrise\\anaconda3\\lib\\site-packages (1.3.0)\n",
      "Requirement already satisfied: pandas in c:\\users\\sunrise\\anaconda3\\lib\\site-packages (1.4.2)\n",
      "Requirement already satisfied: packaging~=23.1 in c:\\users\\sunrise\\anaconda3\\lib\\site-packages (from mido) (23.2)\n",
      "Requirement already satisfied: python-dateutil>=2.8.1 in c:\\users\\sunrise\\anaconda3\\lib\\site-packages (from pandas) (2.8.2)\n",
      "Requirement already satisfied: pytz>=2020.1 in c:\\users\\sunrise\\anaconda3\\lib\\site-packages (from pandas) (2021.3)\n",
      "Requirement already satisfied: numpy>=1.18.5 in c:\\users\\sunrise\\anaconda3\\lib\\site-packages (from pandas) (1.26.3)\n",
      "Requirement already satisfied: six>=1.5 in c:\\users\\sunrise\\anaconda3\\lib\\site-packages (from python-dateutil>=2.8.1->pandas) (1.16.0)\n",
      "Note: you may need to restart the kernel to use updated packages.\n"
     ]
    }
   ],
   "source": [
    "pip install mido pandas"
   ]
  },
  {
   "cell_type": "code",
   "execution_count": null,
   "id": "d7ae6999",
   "metadata": {},
   "outputs": [],
   "source": [
    "import mido\n",
    "import pandas as pd\n",
    "from mido import MidiFile\n",
    "\n",
    "# Function to extract notes and chords from a MIDI track\n",
    "def extract_notes_and_chords(midifile):\n",
    "    mid = MidiFile(midifile)\n",
    "    notes_and_chords = []\n",
    "\n",
    "    for i, track in enumerate(mid.tracks):\n",
    "        current_chord = set()\n",
    "        for msg in track:\n",
    "            if not msg.is_meta and msg.type in ['note_on', 'note_off']:\n",
    "                note = msg.note  # MIDI note number\n",
    "                if msg.type == 'note_on' and msg.velocity > 0:\n",
    "                    current_chord.add(note)\n",
    "                elif msg.type == 'note_off' or (msg.type == 'note_on' and msg.velocity == 0):\n",
    "                    if note in current_chord:\n",
    "                        current_chord.remove(note)\n",
    "                        if not current_chord:  # If the chord is empty, it means all notes are off\n",
    "                            notes_and_chords.append(('Chord', sorted(list(current_chord))))\n",
    "                    else:\n",
    "                        notes_and_chords.append(('Note', note))\n",
    "    return notes_and_chords\n",
    "\n",
    "# Function to save the extracted notes and chords to a CSV file\n",
    "def save_to_csv(data, filename):\n",
    "    df = pd.DataFrame(data, columns=['Type', 'Notes/Chord'])\n",
    "    df.to_csv(filename, index=False)\n",
    "    print(f\"Data saved to {filename}\")\n",
    "\n",
    "# Example usage\n",
    "midi_file = 'path_to_your_midi_file.mid'  # Replace with the path to your MIDI file\n",
    "output_csv = 'output_chords_notes.csv'    # The CSV file where the data will be saved\n",
    "\n",
    "# Extract notes and chords from the MIDI file\n",
    "data = extract_notes_and_chords(midi_file)\n",
    "\n",
    "# Save the extracted data to a CSV file\n",
    "save_to_csv(data, output_csv)"
   ]
  }
 ],
 "metadata": {
  "kernelspec": {
   "display_name": "Python 3 (ipykernel)",
   "language": "python",
   "name": "python3"
  },
  "language_info": {
   "codemirror_mode": {
    "name": "ipython",
    "version": 3
   },
   "file_extension": ".py",
   "mimetype": "text/x-python",
   "name": "python",
   "nbconvert_exporter": "python",
   "pygments_lexer": "ipython3",
   "version": "3.9.12"
  }
 },
 "nbformat": 4,
 "nbformat_minor": 5
}
