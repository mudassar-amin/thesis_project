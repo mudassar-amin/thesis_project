{
 "cells": [
  {
   "cell_type": "code",
   "execution_count": null,
   "id": "e5fb9e75",
   "metadata": {},
   "outputs": [],
   "source": [
    "import pandas as pd\n",
    "import json\n",
    "\n",
    "# Load the CSV file into a DataFrame\n",
    "df = pd.read_csv('path_to_your_file.csv')\n",
    "\n",
    "# Initialize an empty list to hold the conversation objects\n",
    "conversations = []\n",
    "\n",
    "# Iterate through each row in the DataFrame and build the conversation structure\n",
    "for _, row in df.iterrows():\n",
    "    conversation_entry = {\n",
    "        \"conversation\": [\n",
    "            {\"from\": \"human\", \"value\": row['Question']},\n",
    "            {\"from\": \"gpt\", \"value\": row['Answer']}\n",
    "        ]\n",
    "    }\n",
    "    conversations.append(conversation_entry)\n",
    "\n",
    "# Save the conversations list to a JSON file\n",
    "json_filepath = 'Updated_Question_Answers_pairs.json'\n",
    "with open(json_filepath, 'w') as json_file:\n",
    "    json.dump(conversations, json_file, indent=2)\n",
    "\n",
    "print(f\"Conversations saved to {json_filepath}\")\n"
   ]
  },
  {
   "cell_type": "markdown",
   "id": "f8dd6bda",
   "metadata": {},
   "source": [
    "Date_14-feb-2024"
   ]
  },
  {
   "cell_type": "code",
   "execution_count": null,
   "id": "de6f6c91",
   "metadata": {},
   "outputs": [],
   "source": [
    "import pandas as pd\n",
    "import json\n",
    "\n",
    "# Sample code to read the CSV (assuming it works without the issues encountered here)\n",
    "df = pd.read_csv('chords_triads_progression_all_unique.csv')\n",
    "\n",
    "# Function to generate question variations\n",
    "def generate_questions(chord):\n",
    "    return [\n",
    "        f\"What are the notes in a {chord} chord?\",\n",
    "        f\"Which notes make up the {chord} chord?\",\n",
    "        f\"List all notes of the {chord} chord.\",\n",
    "        f\"Detail the notes found in a {chord} chord.\"\n",
    "    ]\n",
    "\n",
    "# Prepare the conversation list\n",
    "conversations = []\n",
    "for _, row in df.iterrows():\n",
    "    chord = row['chords']\n",
    "    notes = row['notes']\n",
    "    questions = generate_questions(chord)\n",
    "    for question in questions:\n",
    "        conversations.append({\n",
    "            \"conversation\": [\n",
    "                {\"from\": \"human\", \"value\": question},\n",
    "                {\"from\": \"\", \"value\": f\"The notes in a {chord} chord are {notes}.\"}\n",
    "            ]\n",
    "        })\n",
    "\n",
    "# Example of splitting the data if too large for one file (pseudo-code)\n",
    "# split_index = len(conversations) // 2  # Or any logical division\n",
    "# conversations_part1 = conversations[:split_index]\n",
    "# conversations_part2 = conversations[split_index:]\n",
    "\n",
    "# Save to JSON files\n",
    "# This is an example; you'd loop over your splits and save each as needed\n",
    "with open('conversations.json', 'w') as file:\n",
    "    json.dump(conversations, file, indent=2)\n"
   ]
  }
 ],
 "metadata": {
  "kernelspec": {
   "display_name": "Python 3 (ipykernel)",
   "language": "python",
   "name": "python3"
  },
  "language_info": {
   "codemirror_mode": {
    "name": "ipython",
    "version": 3
   },
   "file_extension": ".py",
   "mimetype": "text/x-python",
   "name": "python",
   "nbconvert_exporter": "python",
   "pygments_lexer": "ipython3",
   "version": "3.9.12"
  }
 },
 "nbformat": 4,
 "nbformat_minor": 5
}
