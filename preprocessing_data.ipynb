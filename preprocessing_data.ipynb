{
 "cells": [
  {
   "cell_type": "code",
   "execution_count": null,
   "id": "c98a41b0",
   "metadata": {},
   "outputs": [],
   "source": [
    "import os\n",
    "import csv\n",
    "from music21 import converter, chord\n",
    "\n",
    "# Define the path to the main folder containing the MIDI files\n",
    "main_folder_path = 'F:/datasetn'\n",
    "\n",
    "# Define the path for the output CSV file\n",
    "csv_file_path = 'F:/datasetn/test2.csv'\n",
    "\n",
    "# Open a new CSV file to write the data\n",
    "with open(csv_file_path, mode='w', newline='', encoding='utf-8') as csv_file:\n",
    "    # Create a CSV writer object\n",
    "    csv_writer = csv.writer(csv_file, delimiter=',', quotechar='\"', quoting=csv.QUOTE_MINIMAL)\n",
    "    \n",
    "    # Write the header row\n",
    "    csv_writer.writerow(['Chord', 'Notes'])\n",
    "    \n",
    "    # Iterate over all files in the main folder\n",
    "    for subdir, dirs, files in os.walk(main_folder_path):\n",
    "        for file in files:\n",
    "            # Check if the file is a MIDI file\n",
    "            if file.endswith('.mid') or file.endswith('.midi'):\n",
    "                # Construct the full path to the file\n",
    "                file_path = os.path.join(subdir, file)\n",
    "                print(f\"Processing file: {file_path}\")\n",
    "                \n",
    "                # Load the MIDI file\n",
    "                midi_file = converter.parse(file_path)\n",
    "                \n",
    "                # Iterate through all elements and find chords\n",
    "                for element in midi_file.recurse():\n",
    "                    if isinstance(element, chord.Chord):\n",
    "                        # Get the chord's name (e.g., D minor)\n",
    "                        chord_name = element.pitchedCommonName\n",
    "                        \n",
    "                        # Get the individual notes of the chord without octaves\n",
    "                        note_names = {p.name for p in element.pitches}  # Use a set to store unique note names\n",
    "                        \n",
    "                        # Write the chord and its notes to the CSV file\n",
    "                        csv_writer.writerow([chord_name, ' '.join(sorted(note_names))])  # Sort the note names for consistent ordering\n",
    "                        \n",
    "print(f\"Data Saved\")"
   ]
  }
 ],
 "metadata": {
  "kernelspec": {
   "display_name": "Python 3 (ipykernel)",
   "language": "python",
   "name": "python3"
  },
  "language_info": {
   "codemirror_mode": {
    "name": "ipython",
    "version": 3
   },
   "file_extension": ".py",
   "mimetype": "text/x-python",
   "name": "python",
   "nbconvert_exporter": "python",
   "pygments_lexer": "ipython3",
   "version": "3.9.12"
  }
 },
 "nbformat": 4,
 "nbformat_minor": 5
}
