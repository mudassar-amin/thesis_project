{
 "cells": [
  {
   "cell_type": "code",
   "execution_count": 13,
   "id": "08ce3e35",
   "metadata": {},
   "outputs": [],
   "source": [
    "import os\n",
    "import pandas as pd\n",
    "from music21 import converter, chord, note"
   ]
  },
  {
   "cell_type": "code",
   "execution_count": 17,
   "id": "12e75bf8",
   "metadata": {},
   "outputs": [
    {
     "name": "stdout",
     "output_type": "stream",
     "text": [
      "Data saved to notes_chords_cleaned.csv\n"
     ]
    }
   ],
   "source": [
    "from music21 import converter, note, chord\n",
    "import pandas as pd\n",
    "import os\n",
    "\n",
    "# Function to clean chord names\n",
    "def clean_chord_name(name):\n",
    "    # Remove common suffixes in chord names\n",
    "    for suffix in ['chord', 'triad']:\n",
    "        name = name.replace(suffix, '')\n",
    "    return name.strip()\n",
    "\n",
    "# Adjusted function to extract and clean notes and chords\n",
    "def extract_notes_and_chords(midifile):\n",
    "    midi_data = converter.parse(midifile)\n",
    "    notes_and_chords = []\n",
    "\n",
    "    for element in midi_data.recurse():\n",
    "        if isinstance(element, note.Note):\n",
    "            # Only add note if it's not in the lower octave (e.g., C2)\n",
    "            if element.octave > 2:\n",
    "                notes_and_chords.append({\"Type\": \"Note\", \"Content\": str(element.pitch)})\n",
    "        elif isinstance(element, chord.Chord):\n",
    "            # Filter out lower octave notes from the chord\n",
    "            filtered_notes = [n for n in element.pitches if n.octave > 2]\n",
    "            chord_notes = ' '.join(n.nameWithOctave for n in filtered_notes)\n",
    "            if chord_notes:  # Only proceed if there are notes left after filtering\n",
    "                chord_name = clean_chord_name(element.pitchedCommonName)\n",
    "                notes_and_chords.append({\"Type\": \"Chord\", \"Name\": chord_name, \"Notes\": chord_notes})\n",
    "\n",
    "    return notes_and_chords\n",
    "\n",
    "# Function to save the extracted notes and chords, including cleaned chord names, to a CSV file\n",
    "def save_to_csv(data, filename):\n",
    "    df = pd.DataFrame(data)\n",
    "    df.to_csv(filename, index=False)\n",
    "    print(f\"Data saved to {filename}\")\n",
    "\n",
    "# Update these paths according to your setup\n",
    "midi_dir = '$'  # Update this path\n",
    "output_csv = 'notes_chords_cleaned.csv'  # Output file path\n",
    "\n",
    "all_elements_data = []\n",
    "\n",
    "for root, dirs, files in os.walk(midi_dir):\n",
    "    for file in files:\n",
    "        if file.lower().endswith(('.mid', '.midi')):\n",
    "            midi_path = os.path.join(root, file)\n",
    "            elements = extract_notes_and_chords(midi_path)\n",
    "            all_elements_data.extend(elements)\n",
    "\n",
    "save_to_csv(all_elements_data, output_csv)\n"
   ]
  },
  {
   "cell_type": "code",
   "execution_count": null,
   "id": "73b9b907",
   "metadata": {},
   "outputs": [],
   "source": []
  }
 ],
 "metadata": {
  "kernelspec": {
   "display_name": "Python 3 (ipykernel)",
   "language": "python",
   "name": "python3"
  },
  "language_info": {
   "codemirror_mode": {
    "name": "ipython",
    "version": 3
   },
   "file_extension": ".py",
   "mimetype": "text/x-python",
   "name": "python",
   "nbconvert_exporter": "python",
   "pygments_lexer": "ipython3",
   "version": "3.9.12"
  }
 },
 "nbformat": 4,
 "nbformat_minor": 5
}
