{
 "cells": [
  {
   "cell_type": "code",
   "execution_count": 2,
   "id": "c965d3c2",
   "metadata": {},
   "outputs": [
    {
     "name": "stdout",
     "output_type": "stream",
     "text": [
      "Requirement already satisfied: bert-score in c:\\users\\sunrise\\anaconda3\\lib\\site-packages (0.3.13)\n",
      "Requirement already satisfied: pandas>=1.0.1 in c:\\users\\sunrise\\anaconda3\\lib\\site-packages (from bert-score) (1.4.2)\n",
      "Requirement already satisfied: matplotlib in c:\\users\\sunrise\\anaconda3\\lib\\site-packages (from bert-score) (3.5.1)\n",
      "Requirement already satisfied: numpy in c:\\users\\sunrise\\anaconda3\\lib\\site-packages (from bert-score) (1.26.3)\n",
      "Requirement already satisfied: torch>=1.0.0 in c:\\users\\sunrise\\anaconda3\\lib\\site-packages (from bert-score) (2.2.0)\n",
      "Requirement already satisfied: packaging>=20.9 in c:\\users\\sunrise\\anaconda3\\lib\\site-packages (from bert-score) (23.2)\n",
      "Requirement already satisfied: tqdm>=4.31.1 in c:\\users\\sunrise\\anaconda3\\lib\\site-packages (from bert-score) (4.64.0)\n",
      "Requirement already satisfied: requests in c:\\users\\sunrise\\anaconda3\\lib\\site-packages (from bert-score) (2.27.1)\n",
      "Requirement already satisfied: transformers>=3.0.0 in c:\\users\\sunrise\\anaconda3\\lib\\site-packages (from bert-score) (4.31.0)\n",
      "Requirement already satisfied: python-dateutil>=2.8.1 in c:\\users\\sunrise\\anaconda3\\lib\\site-packages (from pandas>=1.0.1->bert-score) (2.8.2)\n",
      "Requirement already satisfied: pytz>=2020.1 in c:\\users\\sunrise\\anaconda3\\lib\\site-packages (from pandas>=1.0.1->bert-score) (2021.3)\n",
      "Requirement already satisfied: six>=1.5 in c:\\users\\sunrise\\anaconda3\\lib\\site-packages (from python-dateutil>=2.8.1->pandas>=1.0.1->bert-score) (1.16.0)\n",
      "Requirement already satisfied: filelock in c:\\users\\sunrise\\anaconda3\\lib\\site-packages (from torch>=1.0.0->bert-score) (3.6.0)\n",
      "Requirement already satisfied: typing-extensions>=4.8.0 in c:\\users\\sunrise\\anaconda3\\lib\\site-packages (from torch>=1.0.0->bert-score) (4.9.0)\n",
      "Requirement already satisfied: sympy in c:\\users\\sunrise\\anaconda3\\lib\\site-packages (from torch>=1.0.0->bert-score) (1.10.1)\n",
      "Requirement already satisfied: fsspec in c:\\users\\sunrise\\anaconda3\\lib\\site-packages (from torch>=1.0.0->bert-score) (2023.10.0)\n",
      "Requirement already satisfied: networkx in c:\\users\\sunrise\\anaconda3\\lib\\site-packages (from torch>=1.0.0->bert-score) (2.7.1)\n",
      "Requirement already satisfied: jinja2 in c:\\users\\sunrise\\anaconda3\\lib\\site-packages (from torch>=1.0.0->bert-score) (2.11.3)\n",
      "Requirement already satisfied: colorama in c:\\users\\sunrise\\anaconda3\\lib\\site-packages (from tqdm>=4.31.1->bert-score) (0.4.4)\n",
      "Requirement already satisfied: pyyaml>=5.1 in c:\\users\\sunrise\\anaconda3\\lib\\site-packages (from transformers>=3.0.0->bert-score) (6.0)\n",
      "Requirement already satisfied: tokenizers!=0.11.3,<0.14,>=0.11.1 in c:\\users\\sunrise\\anaconda3\\lib\\site-packages (from transformers>=3.0.0->bert-score) (0.13.3)\n",
      "Requirement already satisfied: safetensors>=0.3.1 in c:\\users\\sunrise\\anaconda3\\lib\\site-packages (from transformers>=3.0.0->bert-score) (0.4.2)\n",
      "Requirement already satisfied: regex!=2019.12.17 in c:\\users\\sunrise\\anaconda3\\lib\\site-packages (from transformers>=3.0.0->bert-score) (2022.3.15)\n",
      "Requirement already satisfied: huggingface-hub<1.0,>=0.14.1 in c:\\users\\sunrise\\anaconda3\\lib\\site-packages (from transformers>=3.0.0->bert-score) (0.20.3)\n",
      "Requirement already satisfied: MarkupSafe>=0.23 in c:\\users\\sunrise\\anaconda3\\lib\\site-packages (from jinja2->torch>=1.0.0->bert-score) (2.0.1)\n",
      "Requirement already satisfied: pillow>=6.2.0 in c:\\users\\sunrise\\anaconda3\\lib\\site-packages (from matplotlib->bert-score) (9.0.1)\n",
      "Requirement already satisfied: fonttools>=4.22.0 in c:\\users\\sunrise\\anaconda3\\lib\\site-packages (from matplotlib->bert-score) (4.25.0)\n",
      "Requirement already satisfied: pyparsing>=2.2.1 in c:\\users\\sunrise\\anaconda3\\lib\\site-packages (from matplotlib->bert-score) (3.0.4)\n",
      "Requirement already satisfied: cycler>=0.10 in c:\\users\\sunrise\\anaconda3\\lib\\site-packages (from matplotlib->bert-score) (0.11.0)\n",
      "Requirement already satisfied: kiwisolver>=1.0.1 in c:\\users\\sunrise\\anaconda3\\lib\\site-packages (from matplotlib->bert-score) (1.3.2)\n",
      "Requirement already satisfied: idna<4,>=2.5 in c:\\users\\sunrise\\anaconda3\\lib\\site-packages (from requests->bert-score) (3.3)\n",
      "Requirement already satisfied: urllib3<1.27,>=1.21.1 in c:\\users\\sunrise\\anaconda3\\lib\\site-packages (from requests->bert-score) (1.26.9)\n",
      "Requirement already satisfied: certifi>=2017.4.17 in c:\\users\\sunrise\\anaconda3\\lib\\site-packages (from requests->bert-score) (2021.10.8)\n",
      "Requirement already satisfied: charset-normalizer~=2.0.0 in c:\\users\\sunrise\\anaconda3\\lib\\site-packages (from requests->bert-score) (2.0.4)\n",
      "Requirement already satisfied: mpmath>=0.19 in c:\\users\\sunrise\\anaconda3\\lib\\site-packages (from sympy->torch>=1.0.0->bert-score) (1.2.1)\n",
      "Note: you may need to restart the kernel to use updated packages.\n"
     ]
    }
   ],
   "source": [
    "pip install bert-score"
   ]
  },
  {
   "cell_type": "code",
   "execution_count": null,
   "id": "1c4eb9d5",
   "metadata": {},
   "outputs": [
    {
     "data": {
      "application/vnd.jupyter.widget-view+json": {
       "model_id": "7846a1350ff34f378090b2af46a9b9a8",
       "version_major": 2,
       "version_minor": 0
      },
      "text/plain": [
       "tokenizer_config.json:   0%|          | 0.00/695 [00:00<?, ?B/s]"
      ]
     },
     "metadata": {},
     "output_type": "display_data"
    },
    {
     "name": "stderr",
     "output_type": "stream",
     "text": [
      "C:\\Users\\sunrise\\anaconda3\\lib\\site-packages\\huggingface_hub\\file_download.py:149: UserWarning: `huggingface_hub` cache-system uses symlinks by default to efficiently store duplicated files but your machine does not support them in C:\\Users\\sunrise\\.cache\\huggingface\\hub\\models--mudassar93--llama2-chat-piano. Caching files will still work but in a degraded version that might require more space on your disk. This warning can be disabled by setting the `HF_HUB_DISABLE_SYMLINKS_WARNING` environment variable. For more details, see https://huggingface.co/docs/huggingface_hub/how-to-cache#limitations.\n",
      "To support symlinks on Windows, you either need to activate Developer Mode or to run Python as an administrator. In order to see activate developer mode, see this article: https://docs.microsoft.com/en-us/windows/apps/get-started/enable-your-device-for-development\n",
      "  warnings.warn(message)\n"
     ]
    },
    {
     "data": {
      "application/vnd.jupyter.widget-view+json": {
       "model_id": "92a99a7962e24433888702aa1739f351",
       "version_major": 2,
       "version_minor": 0
      },
      "text/plain": [
       "tokenizer.model:   0%|          | 0.00/500k [00:00<?, ?B/s]"
      ]
     },
     "metadata": {},
     "output_type": "display_data"
    },
    {
     "data": {
      "application/vnd.jupyter.widget-view+json": {
       "model_id": "dd65191a0d474cbfa9e698422f4cfa23",
       "version_major": 2,
       "version_minor": 0
      },
      "text/plain": [
       "tokenizer.json:   0%|          | 0.00/1.84M [00:00<?, ?B/s]"
      ]
     },
     "metadata": {},
     "output_type": "display_data"
    },
    {
     "data": {
      "application/vnd.jupyter.widget-view+json": {
       "model_id": "8ebbf8c537714f69b65577fc43bde98e",
       "version_major": 2,
       "version_minor": 0
      },
      "text/plain": [
       "added_tokens.json:   0%|          | 0.00/21.0 [00:00<?, ?B/s]"
      ]
     },
     "metadata": {},
     "output_type": "display_data"
    },
    {
     "data": {
      "application/vnd.jupyter.widget-view+json": {
       "model_id": "a33cae066f6048aeb6a7e53242dcd96a",
       "version_major": 2,
       "version_minor": 0
      },
      "text/plain": [
       "special_tokens_map.json:   0%|          | 0.00/434 [00:00<?, ?B/s]"
      ]
     },
     "metadata": {},
     "output_type": "display_data"
    },
    {
     "data": {
      "application/vnd.jupyter.widget-view+json": {
       "model_id": "bb596b05572340a1b5bc759512971a62",
       "version_major": 2,
       "version_minor": 0
      },
      "text/plain": [
       "config.json:   0%|          | 0.00/632 [00:00<?, ?B/s]"
      ]
     },
     "metadata": {},
     "output_type": "display_data"
    },
    {
     "name": "stderr",
     "output_type": "stream",
     "text": [
      "C:\\Users\\sunrise\\anaconda3\\lib\\site-packages\\bitsandbytes\\cextension.py:34: UserWarning: The installed version of bitsandbytes was compiled without GPU support. 8-bit optimizers, 8-bit multiplication, and GPU quantization are unavailable.\n",
      "  warn(\"The installed version of bitsandbytes was compiled without GPU support. \"\n"
     ]
    },
    {
     "name": "stdout",
     "output_type": "stream",
     "text": [
      "'NoneType' object has no attribute 'cadam32bit_grad_fp32'\n",
      "WARNING:tensorflow:From C:\\Users\\sunrise\\anaconda3\\lib\\site-packages\\keras\\src\\losses.py:2976: The name tf.losses.sparse_softmax_cross_entropy is deprecated. Please use tf.compat.v1.losses.sparse_softmax_cross_entropy instead.\n",
      "\n"
     ]
    },
    {
     "data": {
      "application/vnd.jupyter.widget-view+json": {
       "model_id": "cb2e31cc3bdd4fc58e22b0198795e74a",
       "version_major": 2,
       "version_minor": 0
      },
      "text/plain": [
       "pytorch_model.bin.index.json:   0%|          | 0.00/26.8k [00:00<?, ?B/s]"
      ]
     },
     "metadata": {},
     "output_type": "display_data"
    },
    {
     "data": {
      "application/vnd.jupyter.widget-view+json": {
       "model_id": "fd7c61686dc74d13a9a3f76487825fc4",
       "version_major": 2,
       "version_minor": 0
      },
      "text/plain": [
       "Downloading shards:   0%|          | 0/2 [00:00<?, ?it/s]"
      ]
     },
     "metadata": {},
     "output_type": "display_data"
    },
    {
     "data": {
      "application/vnd.jupyter.widget-view+json": {
       "model_id": "97758bb579c54615957efa9e42fb744a",
       "version_major": 2,
       "version_minor": 0
      },
      "text/plain": [
       "pytorch_model-00001-of-00002.bin:   0%|          | 0.00/9.98G [00:00<?, ?B/s]"
      ]
     },
     "metadata": {},
     "output_type": "display_data"
    }
   ],
   "source": [
    "from transformers import AutoModelForCausalLM, AutoTokenizer\n",
    "\n",
    "model_name = 'mudassar93/llama2-chat-piano'\n",
    "tokenizer = AutoTokenizer.from_pretrained(model_name)\n",
    "model = AutoModelForCausalLM.from_pretrained(model_name)"
   ]
  },
  {
   "cell_type": "code",
   "execution_count": null,
   "id": "b4888dcc",
   "metadata": {},
   "outputs": [],
   "source": []
  }
 ],
 "metadata": {
  "kernelspec": {
   "display_name": "Python 3 (ipykernel)",
   "language": "python",
   "name": "python3"
  },
  "language_info": {
   "codemirror_mode": {
    "name": "ipython",
    "version": 3
   },
   "file_extension": ".py",
   "mimetype": "text/x-python",
   "name": "python",
   "nbconvert_exporter": "python",
   "pygments_lexer": "ipython3",
   "version": "3.9.12"
  }
 },
 "nbformat": 4,
 "nbformat_minor": 5
}
